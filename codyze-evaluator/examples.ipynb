{
 "cells": [
  {
   "metadata": {},
   "cell_type": "raw",
   "source": [
    "import de.fraunhofer.aisec.cpg.*\n",
    "import de.fraunhofer.aisec.cpg.graph.*\n",
    "import de.fraunhofer.aisec.openstack.*\n",
    "import java.io.File\n",
    "\n",
    "val result = checkFile(\"../targets/examples/ssl_version.py\")\n",
    "result"
   ]
  },
  {
   "metadata": {},
   "cell_type": "code",
   "outputs": [],
   "execution_count": null,
   "source": [
    "val select = result.calls[\"select_ssl_version\"]\n",
    "select"
   ]
  }
 ],
 "metadata": {
  "kernelspec": {
   "display_name": "Kotlin",
   "language": "kotlin",
   "name": "kotlin"
  },
  "language_info": {
   "name": "kotlin",
   "version": "1.9.23",
   "mimetype": "text/x-kotlin",
   "file_extension": ".kt",
   "pygments_lexer": "kotlin",
   "codemirror_mode": "text/x-kotlin",
   "nbconvert_exporter": ""
  }
 },
 "nbformat": 4,
 "nbformat_minor": 0
}
